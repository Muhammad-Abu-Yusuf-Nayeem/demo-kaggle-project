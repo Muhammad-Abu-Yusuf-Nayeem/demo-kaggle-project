{
 "cells": [
  {
   "cell_type": "code",
   "execution_count": 1,
   "id": "9a15c27b",
   "metadata": {
    "_cell_guid": "b1076dfc-b9ad-4769-8c92-a6c4dae69d19",
    "_uuid": "8f2839f25d086af736a60e9eeb907d3b93b6e0e5",
    "execution": {
     "iopub.execute_input": "2024-08-28T17:41:57.953597Z",
     "iopub.status.busy": "2024-08-28T17:41:57.953138Z",
     "iopub.status.idle": "2024-08-28T17:41:58.423549Z",
     "shell.execute_reply": "2024-08-28T17:41:58.422347Z"
    },
    "papermill": {
     "duration": 0.477642,
     "end_time": "2024-08-28T17:41:58.426329",
     "exception": false,
     "start_time": "2024-08-28T17:41:57.948687",
     "status": "completed"
    },
    "tags": []
   },
   "outputs": [],
   "source": [
    "# This Python 3 environment comes with many helpful analytics libraries installed\n",
    "# It is defined by the kaggle/python Docker image: https://github.com/kaggle/docker-python\n",
    "# For example, here's several helpful packages to load\n",
    "\n",
    "import numpy as np # linear algebra\n",
    "import pandas as pd # data processing, CSV file I/O (e.g. pd.read_csv)\n",
    "\n",
    "# Input data files are available in the read-only \"../input/\" directory\n",
    "# For example, running this (by clicking run or pressing Shift+Enter) will list all files under the input directory\n",
    "\n",
    "import os\n",
    "\n",
    "# You can write up to 20GB to the current directory (/kaggle/working/) that gets preserved as output when you create a version using \"Save & Run All\" \n",
    "# You can also write temporary files to /kaggle/temp/, but they won't be saved outside of the current session"
   ]
  },
  {
   "cell_type": "markdown",
   "id": "401d405a",
   "metadata": {
    "papermill": {
     "duration": 0.003123,
     "end_time": "2024-08-28T17:41:58.434544",
     "exception": false,
     "start_time": "2024-08-28T17:41:58.431421",
     "status": "completed"
    },
    "tags": []
   },
   "source": [
    "# **Import library**"
   ]
  },
  {
   "cell_type": "code",
   "execution_count": 2,
   "id": "5e394231",
   "metadata": {
    "execution": {
     "iopub.execute_input": "2024-08-28T17:41:58.441353Z",
     "iopub.status.busy": "2024-08-28T17:41:58.440746Z",
     "iopub.status.idle": "2024-08-28T17:42:03.740414Z",
     "shell.execute_reply": "2024-08-28T17:42:03.738488Z"
    },
    "papermill": {
     "duration": 5.309179,
     "end_time": "2024-08-28T17:42:03.745812",
     "exception": false,
     "start_time": "2024-08-28T17:41:58.436633",
     "status": "completed"
    },
    "tags": []
   },
   "outputs": [],
   "source": [
    "import torch\n",
    "import torch.nn as nn\n",
    "import torch.optim as optim\n",
    "import torchvision\n",
    "import torchvision.transforms as transforms\n",
    "\n",
    "# Define the transform to preprocess the images\n",
    "transform = transforms.Compose([\n",
    "    transforms.Grayscale(),\n",
    "    transforms.Resize((28, 28)),\n",
    "    transforms.ToTensor(),\n",
    "    transforms.Normalize((0.5,), (0.5,))\n",
    "])"
   ]
  }
 ],
 "metadata": {
  "kaggle": {
   "accelerator": "none",
   "dataSources": [
    {
     "datasetId": 5608854,
     "sourceId": 9268486,
     "sourceType": "datasetVersion"
    }
   ],
   "dockerImageVersionId": 30761,
   "isGpuEnabled": false,
   "isInternetEnabled": true,
   "language": "python",
   "sourceType": "notebook"
  },
  "kernelspec": {
   "display_name": "Python 3",
   "language": "python",
   "name": "python3"
  },
  "language_info": {
   "codemirror_mode": {
    "name": "ipython",
    "version": 3
   },
   "file_extension": ".py",
   "mimetype": "text/x-python",
   "name": "python",
   "nbconvert_exporter": "python",
   "pygments_lexer": "ipython3",
   "version": "3.10.14"
  },
  "papermill": {
   "default_parameters": {},
   "duration": 9.98298,
   "end_time": "2024-08-28T17:42:04.976062",
   "environment_variables": {},
   "exception": null,
   "input_path": "__notebook__.ipynb",
   "output_path": "__notebook__.ipynb",
   "parameters": {},
   "start_time": "2024-08-28T17:41:54.993082",
   "version": "2.6.0"
  }
 },
 "nbformat": 4,
 "nbformat_minor": 5
}
